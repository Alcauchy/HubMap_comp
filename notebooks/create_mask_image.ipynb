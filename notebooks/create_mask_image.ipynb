{
 "cells": [
  {
   "cell_type": "code",
   "execution_count": 1,
   "metadata": {},
   "outputs": [],
   "source": [
    "import numpy as np\n",
    "import pandas as pd\n",
    "import json\n",
    "import cv2\n",
    "import tifffile\n",
    "import matplotlib.pyplot as plt\n",
    "\n",
    "from collections import OrderedDict\n"
   ]
  },
  {
   "cell_type": "code",
   "execution_count": 2,
   "metadata": {},
   "outputs": [],
   "source": [
    "def rle2mask(rle, shape):\n",
    "    '''\n",
    "    Conver rle format to mask\n",
    "    :param rle: rle format data\n",
    "    :param shape: Shape of mask to create\n",
    "    :return: Binary mask\n",
    "\n",
    "    '''\n",
    "    s = rle.split()\n",
    "    starts, lengths = [\n",
    "        np.asarray(x, dtype=int) for x in (s[0:][::2], s[1:][::2])\n",
    "    ]\n",
    "    starts -= 1\n",
    "    ends = starts + lengths\n",
    "    img = np.zeros(shape[0] * shape[1], dtype=np.uint8)\n",
    "    for lo, hi in zip(starts, ends):\n",
    "        img[lo : hi] = 255\n",
    "    return img.reshape(shape).T"
   ]
  },
  {
   "cell_type": "code",
   "execution_count": 3,
   "metadata": {},
   "outputs": [],
   "source": [
    "dataset_folder = '../dataset/'\n",
    "dataset_train = dataset_folder + 'train/'"
   ]
  },
  {
   "cell_type": "code",
   "execution_count": 4,
   "metadata": {},
   "outputs": [],
   "source": [
    "data_info = pd.read_csv(f'{dataset_folder}HuBMAP-20-dataset_information.csv')"
   ]
  },
  {
   "cell_type": "code",
   "execution_count": 5,
   "metadata": {},
   "outputs": [],
   "source": [
    "image_names = data_info['image_file'].values\n",
    "shapes = data_info[['height_pixels', 'width_pixels']].values\n",
    "image2shape = {\n",
    "    image_id:(width, height) for image_id,  (height, width) in zip(image_names, shapes)\n",
    "}\n",
    "image2shape = OrderedDict(sorted(image2shape.items()))\n",
    "del image_names, shapes"
   ]
  },
  {
   "cell_type": "code",
   "execution_count": 6,
   "metadata": {},
   "outputs": [],
   "source": [
    "train_rle = pd.read_csv(f'{dataset_folder}train.csv')"
   ]
  },
  {
   "cell_type": "code",
   "execution_count": 8,
   "metadata": {},
   "outputs": [
    {
     "name": "stdout",
     "output_type": "stream",
     "text": [
      "Saving 0486052bb_mask.tiff\n",
      "Saving 095bf7a1f_mask.tiff\n",
      "Saving 1e2425f28_mask.tiff\n",
      "Saving 2f6ecfcdf_mask.tiff\n",
      "Saving 54f2eec69_mask.tiff\n",
      "Saving aaa6a05cc_mask.tiff\n",
      "Saving cb2d976f4_mask.tiff\n",
      "Saving e79de561c_mask.tiff\n"
     ]
    }
   ],
   "source": [
    "train_lst = train_rle['id'].values\n",
    "for item in image2shape:\n",
    "    sample_item = item.replace('.tiff', '')\n",
    "    if sample_item not in train_lst:\n",
    "        continue\n",
    "    rle = train_rle[train_rle['id'] ==  sample_item]['encoding'].values[0]\n",
    "    mask = rle2mask(rle, image2shape[item])\n",
    "    print(f'Saving {sample_item}_mask.tiff')\n",
    "    cv2.imwrite(f'{dataset_folder}train/{sample_item}_mask.tiff', mask)"
   ]
  },
  {
   "cell_type": "code",
   "execution_count": null,
   "metadata": {},
   "outputs": [],
   "source": []
  }
 ],
 "metadata": {
  "kernelspec": {
   "display_name": "venv_gpu",
   "language": "python",
   "name": "venv_gpu"
  },
  "language_info": {
   "codemirror_mode": {
    "name": "ipython",
    "version": 3
   },
   "file_extension": ".py",
   "mimetype": "text/x-python",
   "name": "python",
   "nbconvert_exporter": "python",
   "pygments_lexer": "ipython3",
   "version": "3.7.7"
  }
 },
 "nbformat": 4,
 "nbformat_minor": 2
}
