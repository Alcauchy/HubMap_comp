{
 "cells": [
  {
   "cell_type": "code",
   "execution_count": 26,
   "metadata": {},
   "outputs": [],
   "source": [
    "import numpy as np\n",
    "import tifffile\n",
    "import cv2\n",
    "import matplotlib.pyplot as plt\n",
    "import pandas as pd\n",
    "import os\n",
    "\n",
    "import pyvips\n",
    "from tqdm import tqdm\n",
    "from sklearn.model_selection import train_test_split\n",
    "\n",
    "import torch\n",
    "from torch.utils.data import Dataset, DataLoader"
   ]
  },
  {
   "cell_type": "code",
   "execution_count": 2,
   "metadata": {},
   "outputs": [],
   "source": [
    "dataset_folder = '../dataset/'\n",
    "train_folder = f'{dataset_folder}train/'"
   ]
  },
  {
   "cell_type": "code",
   "execution_count": 3,
   "metadata": {},
   "outputs": [],
   "source": [
    "format_to_dtype = {\n",
    "    'uchar': np.uint8,\n",
    "    'char': np.int8,\n",
    "    'ushort': np.uint16,\n",
    "    'short': np.int16,\n",
    "    'uint': np.uint32,\n",
    "    'int': np.int32,\n",
    "    'float': np.float32,\n",
    "    'double': np.float64,\n",
    "    'complex': np.complex64,\n",
    "    'dpcomplex': np.complex128,\n",
    "}"
   ]
  },
  {
   "cell_type": "code",
   "execution_count": 4,
   "metadata": {},
   "outputs": [],
   "source": [
    "def vips2numpy(vi):\n",
    "    return np.ndarray(buffer=vi.write_to_memory(),\n",
    "                      dtype=format_to_dtype[vi.format],\n",
    "                      shape=[vi.height, vi.width, vi.bands])"
   ]
  },
  {
   "cell_type": "code",
   "execution_count": 5,
   "metadata": {},
   "outputs": [],
   "source": [
    "images_paths = []\n",
    "masks_paths = []\n",
    "for item in os.listdir(train_folder):\n",
    "    if '.tiff' not in item:\n",
    "        continue\n",
    "    if '_mask' in item:\n",
    "        masks_paths.append(train_folder + item)\n",
    "    else:\n",
    "        images_paths.append(train_folder + item)\n",
    "images_paths = sorted(images_paths)\n",
    "masks_paths = sorted(masks_paths)"
   ]
  },
  {
   "cell_type": "code",
   "execution_count": 6,
   "metadata": {},
   "outputs": [
    {
     "name": "stdout",
     "output_type": "stream",
     "text": [
      "OK\n"
     ]
    }
   ],
   "source": [
    "## Check correspondense\n",
    "if len(images_paths) != len(masks_paths):\n",
    "    raise ValueError('Lists have different sizes')\n",
    "    \n",
    "for image, mask in zip(images_paths, masks_paths):\n",
    "    if image != mask.replace('_mask', ''):\n",
    "        raise(f'{image} has no mask or masks is in wrong order')\n",
    "print('OK')"
   ]
  },
  {
   "cell_type": "code",
   "execution_count": 7,
   "metadata": {},
   "outputs": [],
   "source": [
    "def crop(image, patch_size, x, y):\n",
    "    \"\"\"\n",
    "    Crop  square form pyvips image\n",
    "    :param image: pyvips image.\n",
    "    :param patch_size: size of square to be croped from image .\n",
    "    :param x: x coordinate of top left point.\n",
    "    :param y: y coordinate of top left point.\n",
    "    :return: return croped pyvips image.\n",
    "    \"\"\"\n",
    "    return image.crop(patch_size * x, patch_size * y, patch_size, patch_size)"
   ]
  },
  {
   "cell_type": "code",
   "execution_count": 8,
   "metadata": {},
   "outputs": [],
   "source": [
    "def split(path, patch_size, padding=True):\n",
    "    \"\"\"\n",
    "    Split image by patch_size without loading it to RAM.\n",
    "    :param path: Path to image.\n",
    "    :param patch_size: Size of square to be splitted.\n",
    "    :param padding: If True make morror padding.\n",
    "    :return: List of pyvips cropes and ids for fetch.\n",
    "    \"\"\"\n",
    "    patches = []\n",
    "    ids = []\n",
    "    img = pyvips.Image.new_from_file(path)\n",
    "    if padding:\n",
    "        new_width = int(np.ceil(img.width / patch_size)) * patch_size\n",
    "        new_height = int(np.ceil(img.height / patch_size)) * patch_size\n",
    "        img = img.embed(0, 0, new_width, new_height, extend='mirror')\n",
    "    else:\n",
    "        new_width = img.width\n",
    "        new_height = img.height\n",
    "        \n",
    "    x_num = new_width // patch_size\n",
    "    y_num = new_height // patch_size\n",
    "    for y in range(y_num):\n",
    "        for x in range(x_num):\n",
    "            patches.append(crop(img, patch_size, x, y))\n",
    "            ids.append((path, x, y))\n",
    "    return patches, ids"
   ]
  },
  {
   "cell_type": "code",
   "execution_count": 9,
   "metadata": {},
   "outputs": [],
   "source": [
    "patch_size = 768"
   ]
  },
  {
   "cell_type": "code",
   "execution_count": 10,
   "metadata": {},
   "outputs": [],
   "source": [
    "masks = []\n",
    "image_ids = []\n",
    "for mask_path in masks_paths:\n",
    "    result = split(mask_path, patch_size=patch_size)\n",
    "    masks += result[0]\n",
    "    image_ids += result[1]"
   ]
  },
  {
   "cell_type": "code",
   "execution_count": 12,
   "metadata": {},
   "outputs": [],
   "source": [
    "is_with_object = np.zeros(len(masks)).astype(np.int8)"
   ]
  },
  {
   "cell_type": "code",
   "execution_count": 13,
   "metadata": {},
   "outputs": [],
   "source": [
    "def check_object(item):\n",
    "    return int(np.sum(vips2numpy(item)) > 0)"
   ]
  },
  {
   "cell_type": "code",
   "execution_count": 14,
   "metadata": {},
   "outputs": [
    {
     "name": "stderr",
     "output_type": "stream",
     "text": [
      "100%|██████████| 12345/12345 [03:00<00:00, 68.58it/s] \n"
     ]
    }
   ],
   "source": [
    "for i, item in tqdm(enumerate(masks), total=len(masks)):\n",
    "    is_with_object[i] = check_object(item)"
   ]
  },
  {
   "cell_type": "code",
   "execution_count": 15,
   "metadata": {},
   "outputs": [
    {
     "data": {
      "text/plain": [
       "(array([10104.,     0.,     0.,     0.,     0.,     0.,     0.,     0.,\n",
       "            0.,  2241.]),\n",
       " array([0. , 0.1, 0.2, 0.3, 0.4, 0.5, 0.6, 0.7, 0.8, 0.9, 1. ]),\n",
       " <a list of 10 Patch objects>)"
      ]
     },
     "execution_count": 15,
     "metadata": {},
     "output_type": "execute_result"
    },
    {
     "data": {
      "image/png": "[encoded data removed]",
      "text/plain": [
       "<Figure size 432x288 with 1 Axes>"
      ]
     },
     "metadata": {
      "needs_background": "light"
     },
     "output_type": "display_data"
    }
   ],
   "source": [
    "plt.hist(is_with_object.squeeze())"
   ]
  },
  {
   "cell_type": "code",
   "execution_count": 21,
   "metadata": {},
   "outputs": [],
   "source": [
    "## Create dicts and label paths\n",
    "mask2ind = {}\n",
    "image2ind = {}\n",
    "ind2mask = {}\n",
    "ind2image = {}\n",
    "dataset = np.array(image_ids)\n",
    "uniq_mask_path = np.unique(dataset[:,0])\n",
    "for i, item in enumerate(uniq_mask_path):\n",
    "    mask2ind[item] = i\n",
    "    ind2mask[i] = item\n",
    "    image2ind[item.replace('_mask', '')] = i\n",
    "    ind2image[i] = item.replace('_mask', '')\n",
    "dataset[:, 0] = np.vectorize(mask2ind.get)(dataset[:, 0])\n",
    "dataset = dataset.astype(np.int)"
   ]
  },
  {
   "cell_type": "code",
   "execution_count": 22,
   "metadata": {},
   "outputs": [],
   "source": [
    "X_train, X_test = train_test_split(dataset, \n",
    "                 train_size=0.8, \n",
    "                 test_size=0.2, \n",
    "                 stratify=is_with_object.squeeze(),\n",
    "                 random_state=42)"
   ]
  },
  {
   "cell_type": "code",
   "execution_count": 42,
   "metadata": {},
   "outputs": [],
   "source": [
    "class HubDataset(Dataset):\n",
    "    def __init__(self, dataset, patch_size, ind2image, ind2mask, transform=None):\n",
    "        \n",
    "        self.dataset = dataset\n",
    "        self.patch_size = patch_size\n",
    "        self.ind2image = ind2image\n",
    "        self.ind2mask = ind2mask\n",
    "        if transform is not None:\n",
    "            self.transform = transform\n",
    "        else:\n",
    "            self.transform = self.transform_default\n",
    "        self.images = self.load_images()\n",
    "        self.masks = self.load_masks()\n",
    "        \n",
    "        \n",
    "    def load_images(self):\n",
    "        pass\n",
    "    \n",
    "    def load_masks(self):\n",
    "        pass\n",
    "    \n",
    "    def transform_default(self):\n",
    "        pass\n",
    "    \n",
    "    def get_image(self, image_objct, x, y):\n",
    "        pass\n",
    "\n",
    "    \n",
    "    def __len__(self):\n",
    "        return self.dataset_size\n",
    "\n",
    "    def __getitem__(self, idx):\n",
    "        ind, patch_size, x, y = self.dataset[idx]\n",
    "        image = self.get_image(self.images[ind], x, y)\n",
    "        mask = self.get_image(self.masks[ind], x, y)\n",
    "        aug = self.transform(image=image, mask=mask)\n",
    "        image = aug['image']\n",
    "        mask = aug['mask']\n",
    "        image = torch.Tensor(image.permute(2, 0, 1))\n",
    "        return image, mask"
   ]
  },
  {
   "cell_type": "code",
   "execution_count": null,
   "metadata": {},
   "outputs": [],
   "source": []
  }
 ],
 "metadata": {
  "kernelspec": {
   "display_name": "venv_gpu",
   "language": "python",
   "name": "venv_gpu"
  },
  "language_info": {
   "codemirror_mode": {
    "name": "ipython",
    "version": 3
   },
   "file_extension": ".py",
   "mimetype": "text/x-python",
   "name": "python",
   "nbconvert_exporter": "python",
   "pygments_lexer": "ipython3",
   "version": "3.7.7"
  }
 },
 "nbformat": 4,
 "nbformat_minor": 2
}
